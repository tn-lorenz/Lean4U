{
 "cells": [
  {
   "cell_type": "markdown",
   "id": "b767119e",
   "metadata": {},
   "source": [
    "Here, we will begin solving some easy problems that were part of the first homework assignment I got.\n",
    "\n",
    "## Problem 1\n",
    "#### (a)\n",
    "Show that $( A \\setminus B ) \\cap C = ( A \\cap C ) \\setminus B$\n",
    "\n",
    "\n",
    "## Solutions\n",
    "#### (a)\n",
    "Recall that $A \\setminus B = A \\cap B^{C}$, because\n",
    "$x \\in A \\setminus B \\iff x \\in A \\land x \\notin B \\iff x \\in A \\land x \\in B^{C} \\iff x \\in A \\cap B^{C}$.<br>\n",
    "Now, using the `commutative` and `associative` properties of the intersection we can conclude\n",
    "$$\n",
    "\\begin{align}\n",
    "( A \\setminus B ) \\cap C &= ( A \\cap B^{C} ) \\cap C = A \\cap ( B^{C} \\cap C ) \\\\\n",
    "&= A \\cap ( C \\cap B^{C} ) = ( A \\cap C ) \\cap B^{C} = ( A \\cap C ) \\setminus B \\quad \\blacksquare\n",
    "\\end{align}\n",
    "$$"
   ]
  }
 ],
 "metadata": {
  "language_info": {
   "name": "python"
  }
 },
 "nbformat": 4,
 "nbformat_minor": 5
}
